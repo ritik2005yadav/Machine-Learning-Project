{
 "cells": [
  {
   "cell_type": "code",
   "execution_count": 1,
   "id": "97631ad8-a5fa-4c54-b065-57052d795b3e",
   "metadata": {},
   "outputs": [],
   "source": [
    "import pywhatkit as pyw"
   ]
  },
  {
   "cell_type": "code",
   "execution_count": 4,
   "id": "c33f6c01-e9aa-4a14-8a75-a5ed2e2c647b",
   "metadata": {},
   "outputs": [
    {
     "name": "stdout",
     "output_type": "stream",
     "text": [
      "In 13 Seconds WhatsApp will open and after 15 Seconds Message will be Delivered!\n"
     ]
    }
   ],
   "source": [
    "pyw.sendwhatmsg('+916392507821','welcome to my world!!',16,3)"
   ]
  },
  {
   "cell_type": "code",
   "execution_count": null,
   "id": "2a1a7d41-f52d-4821-8120-602f82d52e5f",
   "metadata": {},
   "outputs": [],
   "source": []
  }
 ],
 "metadata": {
  "kernelspec": {
   "display_name": "Python 3 (ipykernel)",
   "language": "python",
   "name": "python3"
  },
  "language_info": {
   "codemirror_mode": {
    "name": "ipython",
    "version": 3
   },
   "file_extension": ".py",
   "mimetype": "text/x-python",
   "name": "python",
   "nbconvert_exporter": "python",
   "pygments_lexer": "ipython3",
   "version": "3.11.5"
  }
 },
 "nbformat": 4,
 "nbformat_minor": 5
}
